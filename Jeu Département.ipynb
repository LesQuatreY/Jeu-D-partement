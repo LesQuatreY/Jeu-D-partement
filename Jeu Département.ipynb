{
 "cells": [
  {
   "cell_type": "code",
   "execution_count": 1,
   "id": "d6e62ce4",
   "metadata": {},
   "outputs": [],
   "source": [
    "import numpy as np\n",
    "import pandas as pd\n",
    "import plotly.express as px\n",
    "import random\n",
    "import re\n",
    "import folium"
   ]
  },
  {
   "cell_type": "markdown",
   "id": "a59ac98f",
   "metadata": {},
   "source": [
    "### Nom de la commune associé au code postal"
   ]
  },
  {
   "cell_type": "code",
   "execution_count": 2,
   "id": "a827c357",
   "metadata": {},
   "outputs": [
    {
     "name": "stderr",
     "output_type": "stream",
     "text": [
      "/home/tanguy/.local/lib/python3.8/site-packages/pandas/core/indexing.py:1773: SettingWithCopyWarning: \n",
      "A value is trying to be set on a copy of a slice from a DataFrame.\n",
      "Try using .loc[row_indexer,col_indexer] = value instead\n",
      "\n",
      "See the caveats in the documentation: https://pandas.pydata.org/pandas-docs/stable/user_guide/indexing.html#returning-a-view-versus-a-copy\n",
      "  self._setitem_single_column(ilocs[0], value, pi)\n"
     ]
    },
    {
     "data": {
      "text/html": [
       "<div>\n",
       "<style scoped>\n",
       "    .dataframe tbody tr th:only-of-type {\n",
       "        vertical-align: middle;\n",
       "    }\n",
       "\n",
       "    .dataframe tbody tr th {\n",
       "        vertical-align: top;\n",
       "    }\n",
       "\n",
       "    .dataframe thead th {\n",
       "        text-align: right;\n",
       "    }\n",
       "</style>\n",
       "<table border=\"1\" class=\"dataframe\">\n",
       "  <thead>\n",
       "    <tr style=\"text-align: right;\">\n",
       "      <th></th>\n",
       "      <th>Code INSEE</th>\n",
       "      <th>Code Postal</th>\n",
       "      <th>Commune</th>\n",
       "      <th>Département</th>\n",
       "      <th>Région</th>\n",
       "      <th>Statut</th>\n",
       "      <th>Altitude Moyenne</th>\n",
       "      <th>Superficie</th>\n",
       "      <th>Population</th>\n",
       "      <th>geo_point_2d</th>\n",
       "      <th>geo_shape</th>\n",
       "      <th>ID Geogla</th>\n",
       "      <th>Code Commune</th>\n",
       "      <th>Code Canton</th>\n",
       "      <th>Code Arrondissement</th>\n",
       "      <th>Code Département</th>\n",
       "      <th>Code Région</th>\n",
       "    </tr>\n",
       "  </thead>\n",
       "  <tbody>\n",
       "    <tr>\n",
       "      <th>338</th>\n",
       "      <td>77288</td>\n",
       "      <td>77000</td>\n",
       "      <td>MELUN</td>\n",
       "      <td>SEINE-ET-MARNE</td>\n",
       "      <td>ILE-DE-FRANCE</td>\n",
       "      <td>Préfecture</td>\n",
       "      <td>63.0</td>\n",
       "      <td>800.0</td>\n",
       "      <td>39.4</td>\n",
       "      <td>48.5444723553, 2.65795821917</td>\n",
       "      <td>{\"type\": \"Polygon\", \"coordinates\": [[[2.653274...</td>\n",
       "      <td>36389</td>\n",
       "      <td>288</td>\n",
       "      <td>99</td>\n",
       "      <td>2</td>\n",
       "      <td>77</td>\n",
       "      <td>11</td>\n",
       "    </tr>\n",
       "    <tr>\n",
       "      <th>496</th>\n",
       "      <td>15014</td>\n",
       "      <td>15000</td>\n",
       "      <td>AURILLAC</td>\n",
       "      <td>CANTAL</td>\n",
       "      <td>AUVERGNE</td>\n",
       "      <td>Préfecture</td>\n",
       "      <td>668.0</td>\n",
       "      <td>2916.0</td>\n",
       "      <td>28.2</td>\n",
       "      <td>44.9245233686, 2.44162453828</td>\n",
       "      <td>{\"type\": \"Polygon\", \"coordinates\": [[[2.483154...</td>\n",
       "      <td>4256</td>\n",
       "      <td>14</td>\n",
       "      <td>98</td>\n",
       "      <td>1</td>\n",
       "      <td>15</td>\n",
       "      <td>83</td>\n",
       "    </tr>\n",
       "    <tr>\n",
       "      <th>526</th>\n",
       "      <td>2A004</td>\n",
       "      <td>20000</td>\n",
       "      <td>AJACCIO</td>\n",
       "      <td>CORSE-DU-SUD</td>\n",
       "      <td>CORSE</td>\n",
       "      <td>Préfecture de région</td>\n",
       "      <td>136.0</td>\n",
       "      <td>8314.0</td>\n",
       "      <td>64.3</td>\n",
       "      <td>41.9347926638, 8.70132275974</td>\n",
       "      <td>{\"type\": \"Polygon\", \"coordinates\": [[[8.636808...</td>\n",
       "      <td>5174</td>\n",
       "      <td>4</td>\n",
       "      <td>98</td>\n",
       "      <td>1</td>\n",
       "      <td>2A</td>\n",
       "      <td>94</td>\n",
       "    </tr>\n",
       "    <tr>\n",
       "      <th>540</th>\n",
       "      <td>60057</td>\n",
       "      <td>60000</td>\n",
       "      <td>BEAUVAIS</td>\n",
       "      <td>OISE</td>\n",
       "      <td>PICARDIE</td>\n",
       "      <td>Préfecture</td>\n",
       "      <td>91.0</td>\n",
       "      <td>3309.0</td>\n",
       "      <td>54.5</td>\n",
       "      <td>49.4365523321, 2.08616123661</td>\n",
       "      <td>{\"type\": \"Polygon\", \"coordinates\": [[[2.125963...</td>\n",
       "      <td>28861</td>\n",
       "      <td>57</td>\n",
       "      <td>99</td>\n",
       "      <td>1</td>\n",
       "      <td>60</td>\n",
       "      <td>22</td>\n",
       "    </tr>\n",
       "    <tr>\n",
       "      <th>652</th>\n",
       "      <td>44109</td>\n",
       "      <td>44000/44100/44200/44300</td>\n",
       "      <td>NANTES</td>\n",
       "      <td>LOIRE-ATLANTIQUE</td>\n",
       "      <td>PAYS DE LA LOIRE</td>\n",
       "      <td>Préfecture de région</td>\n",
       "      <td>18.0</td>\n",
       "      <td>6577.0</td>\n",
       "      <td>282.0</td>\n",
       "      <td>47.2316356767, -1.54831008605</td>\n",
       "      <td>{\"type\": \"Polygon\", \"coordinates\": [[[-1.51819...</td>\n",
       "      <td>419</td>\n",
       "      <td>109</td>\n",
       "      <td>99</td>\n",
       "      <td>2</td>\n",
       "      <td>44</td>\n",
       "      <td>52</td>\n",
       "    </tr>\n",
       "  </tbody>\n",
       "</table>\n",
       "</div>"
      ],
      "text/plain": [
       "    Code INSEE              Code Postal   Commune       Département  \\\n",
       "338      77288                    77000     MELUN    SEINE-ET-MARNE   \n",
       "496      15014                    15000  AURILLAC            CANTAL   \n",
       "526      2A004                    20000   AJACCIO      CORSE-DU-SUD   \n",
       "540      60057                    60000  BEAUVAIS              OISE   \n",
       "652      44109  44000/44100/44200/44300    NANTES  LOIRE-ATLANTIQUE   \n",
       "\n",
       "               Région                Statut  Altitude Moyenne  Superficie  \\\n",
       "338     ILE-DE-FRANCE            Préfecture              63.0       800.0   \n",
       "496          AUVERGNE            Préfecture             668.0      2916.0   \n",
       "526             CORSE  Préfecture de région             136.0      8314.0   \n",
       "540          PICARDIE            Préfecture              91.0      3309.0   \n",
       "652  PAYS DE LA LOIRE  Préfecture de région              18.0      6577.0   \n",
       "\n",
       "     Population                   geo_point_2d  \\\n",
       "338        39.4   48.5444723553, 2.65795821917   \n",
       "496        28.2   44.9245233686, 2.44162453828   \n",
       "526        64.3   41.9347926638, 8.70132275974   \n",
       "540        54.5   49.4365523321, 2.08616123661   \n",
       "652       282.0  47.2316356767, -1.54831008605   \n",
       "\n",
       "                                             geo_shape  ID Geogla  \\\n",
       "338  {\"type\": \"Polygon\", \"coordinates\": [[[2.653274...      36389   \n",
       "496  {\"type\": \"Polygon\", \"coordinates\": [[[2.483154...       4256   \n",
       "526  {\"type\": \"Polygon\", \"coordinates\": [[[8.636808...       5174   \n",
       "540  {\"type\": \"Polygon\", \"coordinates\": [[[2.125963...      28861   \n",
       "652  {\"type\": \"Polygon\", \"coordinates\": [[[-1.51819...        419   \n",
       "\n",
       "     Code Commune  Code Canton  Code Arrondissement Code Département  \\\n",
       "338           288           99                    2               77   \n",
       "496            14           98                    1               15   \n",
       "526             4           98                    1               2A   \n",
       "540            57           99                    1               60   \n",
       "652           109           99                    2               44   \n",
       "\n",
       "     Code Région  \n",
       "338           11  \n",
       "496           83  \n",
       "526           94  \n",
       "540           22  \n",
       "652           52  "
      ]
     },
     "execution_count": 2,
     "metadata": {},
     "output_type": "execute_result"
    }
   ],
   "source": [
    "# dataset \n",
    "path = 'C:/Users/taminot/Documents/conf/TIDE/data/'\n",
    "path = ''\n",
    "geo = pd.read_csv(f\"{path}correspondance-code-insee-code-postal.csv\",\n",
    "                 sep=\";\",\n",
    "                 )\n",
    "geo_prefecture = geo[(geo['Statut']=='Préfecture') | (geo['Statut']=='Préfecture de région') & (geo['Code Département']!='97')]\n",
    "geo_prefecture.loc[:,'Commune'] = geo_prefecture.loc[:,'Commune'].apply(lambda x: x if not ('ARRONDISSEMENT' in x) else re.search('\\\\w+', x).group())\n",
    "\n",
    "historique = pd.read_csv(f\"{path}historique.csv\", index_col=0)\n",
    "\n",
    "geo_prefecture.head()"
   ]
  },
  {
   "cell_type": "markdown",
   "id": "4339250f",
   "metadata": {},
   "source": [
    "### Carte"
   ]
  },
  {
   "cell_type": "code",
   "execution_count": 3,
   "id": "2a56d5b2",
   "metadata": {},
   "outputs": [],
   "source": [
    "import folium"
   ]
  },
  {
   "cell_type": "code",
   "execution_count": 4,
   "id": "a016d0e4",
   "metadata": {},
   "outputs": [
    {
     "data": {
      "text/plain": [
       "<folium.features.Choropleth at 0x7f1cf0bef550>"
      ]
     },
     "execution_count": 4,
     "metadata": {},
     "output_type": "execute_result"
    }
   ],
   "source": [
    "fond = r'http://{s}.basemaps.cartocdn.com/light_all/{z}/{x}/{y}.png'\n",
    "carte = folium.Map(location=[46.5, 2.3], zoom_start=6, tiles=fond, attr='© OpenStreetMap © CartoDB')\n",
    "#carte.create_map(path='C:/Users/taminot/Documents/Projets persos/Départements/image.html')\n",
    "carte.save(f\"{path}image.html\")\n",
    "\n",
    "jsonData = f\"{path}contour-des-departements.geojson\"\n",
    "folium.Choropleth(jsonData, fill_color='yellow').add_to(carte)"
   ]
  },
  {
   "cell_type": "markdown",
   "id": "39fab494",
   "metadata": {},
   "source": [
    "# JEU CONNAITRE LES PREFECTURE DES CODES POSTAUX"
   ]
  },
  {
   "cell_type": "code",
   "execution_count": 5,
   "id": "aad86e36",
   "metadata": {},
   "outputs": [],
   "source": [
    "def jeu_prefecture(graph=True):\n",
    "    nb_tour = int(input('Nombre de tour ? '))\n",
    "    erreur = 0\n",
    "    code_list = geo_prefecture['Code Département'].unique().tolist()\n",
    "    for i in range(nb_tour):\n",
    "        Code = random.choice(code_list)\n",
    "        code_list.remove(Code)\n",
    "        Commune = geo_prefecture.loc[geo_prefecture['Code Département']==Code, 'Commune'].tolist()[0]\n",
    "        Commune_joueur = input(f\"Quelle est la préfécture associé au numéro de département {Code} : \")\n",
    "        if Commune_joueur.lower() != Commune.lower():\n",
    "            print(f\"ERROR : La préfécture est {Commune.lower()}\")\n",
    "            erreur +=1\n",
    "            historique.loc[Code,'Erreur'] = historique.loc[Code,'Erreur'] + 1\n",
    "            if graph:\n",
    "                '''\n",
    "                Init carte\n",
    "                '''\n",
    "                fond = r'http://{s}.basemaps.cartocdn.com/light_all/{z}/{x}/{y}.png'\n",
    "                carte = folium.Map(location=[46.5, 2.3], zoom_start=6, tiles=fond, attr='© OpenStreetMap © CartoDB')\n",
    "                #carte.create_map(path='C:/Users/taminot/Documents/Projets persos/Départements/image.html')\n",
    "                carte.save(f\"{path}image.html\")\n",
    "\n",
    "                jsonData = f\"{path}contour-des-departements.geojson\"\n",
    "                folium.Choropleth(jsonData, fill_color='bisque').add_to(carte)\n",
    "\n",
    "                chaine = geo_prefecture.loc[geo_prefecture['Code Département']==Code, 'geo_point_2d'].to_list()[0]\n",
    "                ind = chaine.index(',')\n",
    "                x = chaine[0:ind]\n",
    "                y = chaine[(ind+2):]\n",
    "                folium.Marker([x, y], popup=f\"{Code} : {Commune}\").add_to(carte)\n",
    "                display(carte)\n",
    "        else:\n",
    "            historique.loc[Code,'Correct'] = historique.loc[Code,'Correct'] + 1\n",
    "    historique.to_csv(f\"{path}historique.csv\")\n",
    "    print(f\"Votre score est de {nb_tour-erreur}/{nb_tour}\")"
   ]
  },
  {
   "cell_type": "code",
   "execution_count": null,
   "id": "050a3664",
   "metadata": {
    "scrolled": false
   },
   "outputs": [
    {
     "name": "stdout",
     "output_type": "stream",
     "text": [
      "Nombre de tour ? 20\n",
      "Quelle est la préfécture associé au numéro de département 04 : \n",
      "ERROR : La préfécture est digne-les-bains\n",
      "Quelle est la préfécture associé au numéro de département 67 : Strasbourg\n",
      "Quelle est la préfécture associé au numéro de département 09 : \n",
      "ERROR : La préfécture est foix\n",
      "Quelle est la préfécture associé au numéro de département 87 : Limoge\n",
      "ERROR : La préfécture est limoges\n",
      "Quelle est la préfécture associé au numéro de département 89 : Auxerre\n",
      "Quelle est la préfécture associé au numéro de département 43 : \n",
      "ERROR : La préfécture est le puy-en-velay\n",
      "Quelle est la préfécture associé au numéro de département 18 : Bourges\n",
      "Quelle est la préfécture associé au numéro de département 63 : Clermont-ferrand\n",
      "Quelle est la préfécture associé au numéro de département 21 : dijon\n",
      "Quelle est la préfécture associé au numéro de département 66 : perpignan\n",
      "Quelle est la préfécture associé au numéro de département 39 : lagon-le-saunier\n",
      "ERROR : La préfécture est lons-le-saunier\n",
      "Quelle est la préfécture associé au numéro de département 46 : \n",
      "ERROR : La préfécture est cahors\n"
     ]
    }
   ],
   "source": [
    "jeu_prefecture(graph=False)"
   ]
  },
  {
   "cell_type": "markdown",
   "id": "9a965d11",
   "metadata": {},
   "source": [
    "### Resultats"
   ]
  },
  {
   "cell_type": "code",
   "execution_count": null,
   "id": "032e0416",
   "metadata": {},
   "outputs": [],
   "source": [
    "result = (historique['Correct']>historique['Erreur']).sum()/historique.shape[0]\n",
    "\"{:.2%}\".format(result)"
   ]
  },
  {
   "cell_type": "markdown",
   "id": "30091bc1",
   "metadata": {},
   "source": [
    "#### Avec le plus d'erreurs"
   ]
  },
  {
   "cell_type": "code",
   "execution_count": null,
   "id": "b1c247ee",
   "metadata": {},
   "outputs": [],
   "source": [
    "historique.sort_values('Erreur', ascending=False)"
   ]
  },
  {
   "cell_type": "markdown",
   "id": "a046095e",
   "metadata": {},
   "source": [
    "#### Ceux qui sont pas loin d'etre connus"
   ]
  },
  {
   "cell_type": "code",
   "execution_count": null,
   "id": "6878ed01",
   "metadata": {},
   "outputs": [],
   "source": [
    "filtre = (historique['Correct'].apply(lambda x: True if x in [1, 2] else False)) & (historique['Erreur']>0)\n",
    "historique[filtre].sort_values(by=['Correct', 'Erreur'] ,ascending = [False, True]) "
   ]
  },
  {
   "cell_type": "markdown",
   "id": "99cca977",
   "metadata": {},
   "source": [
    "### APPRENDRE LES PREFECTURES"
   ]
  },
  {
   "cell_type": "code",
   "execution_count": null,
   "id": "37ad12d4",
   "metadata": {},
   "outputs": [],
   "source": [
    "def apprendre_prefecture(graph = True):\n",
    "    nb_tour = int(input('Nombre de tour ? '))\n",
    "    erreur = 0\n",
    "    filtre = (historique['Correct']<3) #2*historique['Erreur'])\n",
    "    geo_prefecture_apprendre = historique[filtre]\n",
    "    code_list = geo_prefecture_apprendre.index.unique().tolist()\n",
    "    for i in range(nb_tour):\n",
    "        Code = random.choice(code_list)\n",
    "        code_list.remove(Code)\n",
    "        Commune = geo_prefecture_apprendre.loc[Code, 'Commune']\n",
    "        Commune_joueur = input(f\"Quelle est la préfécture associé au numéro de département {Code} : \")\n",
    "        if Commune_joueur.lower() != Commune.lower():\n",
    "            print(f\"ERROR : La préfécture est {Commune.lower()}\")\n",
    "            erreur +=1\n",
    "            historique.loc[Code,'Erreur'] = historique.loc[Code,'Erreur'] + 1\n",
    "            if graph:\n",
    "                '''\n",
    "                Init carte\n",
    "                '''\n",
    "                fond = r'http://{s}.basemaps.cartocdn.com/light_all/{z}/{x}/{y}.png'\n",
    "                carte = folium.Map(location=[46.5, 2.3], zoom_start=6, tiles=fond, attr='© OpenStreetMap © CartoDB')\n",
    "                #carte.create_map(path='C:/Users/taminot/Documents/Projets persos/Départements/image.html')\n",
    "                carte.save(f\"{path}image.html\")\n",
    "\n",
    "                jsonData = f\"{path}contour-des-departements.geojson\"\n",
    "                folium.Choropleth(jsonData, fill_color='bisque').add_to(carte)\n",
    "\n",
    "                chaine = geo_prefecture.loc[geo_prefecture['Code Département']==Code, 'geo_point_2d'].to_list()[0]\n",
    "                ind = chaine.index(',')\n",
    "                x = chaine[0:ind]\n",
    "                y = chaine[(ind+2):]\n",
    "                folium.Marker([x, y], popup=f\"{Code} : {Commune}\").add_to(carte)\n",
    "                display(carte)\n",
    "        else:\n",
    "            historique.loc[Code,'Correct'] = historique.loc[Code,'Correct'] + 1\n",
    "    historique.to_csv(f\"{path}historique.csv\")\n",
    "    print(f\"Votre score est de {nb_tour-erreur}/{nb_tour}\")"
   ]
  },
  {
   "cell_type": "code",
   "execution_count": null,
   "id": "5f428b64",
   "metadata": {
    "scrolled": false
   },
   "outputs": [],
   "source": [
    "apprendre_prefecture()"
   ]
  },
  {
   "cell_type": "markdown",
   "id": "32ec51ec",
   "metadata": {},
   "source": [
    "### JEUX DES VILLES (PREFECTURE) A PLACER : "
   ]
  },
  {
   "cell_type": "code",
   "execution_count": null,
   "id": "e54c572c",
   "metadata": {},
   "outputs": [],
   "source": [
    "def jeu_ville_placer():\n",
    "    list_commune = geo_prefecture['Commune'].unique().tolist()\n",
    "    Commune = random.choice(list_commune)\n",
    "    Code = geo_prefecture.loc[geo_prefecture.Commune==Commune, 'Code Département'].tolist()[0]\n",
    "    '''\n",
    "    Init carte\n",
    "    '''\n",
    "    fond = r'http://{s}.basemaps.cartocdn.com/light_all/{z}/{x}/{y}.png'\n",
    "    carte = folium.Map(location=[46.5, 2.3], zoom_start=6, tiles=fond, attr='© OpenStreetMap © CartoDB')\n",
    "    #carte.create_map(path='C:/Users/taminot/Documents/Projets persos/Départements/image.html')\n",
    "    carte.save('C:/Users/taminot/Documents/Projets persos/Départements/image.html')\n",
    "\n",
    "    jsonData = r'C:/Users/taminot/Documents/Projets persos/Départements/contour-des-departements.geojson'\n",
    "    folium.Choropleth(jsonData, fill_color='bisque').add_to(carte)\n",
    "\n",
    "    chaine = geo_prefecture.loc[geo_prefecture['Code Département']==Code, 'geo_point_2d'].to_list()[0]\n",
    "    ind = chaine.index(',')\n",
    "    x = chaine[0:ind]\n",
    "    y = chaine[(ind+2):]\n",
    "    folium.Marker([x, y], popup=f\"{Code} : {Commune}\").add_to(carte)\n",
    "    display(carte)"
   ]
  },
  {
   "cell_type": "code",
   "execution_count": null,
   "id": "3ed83141",
   "metadata": {},
   "outputs": [],
   "source": [
    "jeu_ville_placer()"
   ]
  },
  {
   "cell_type": "code",
   "execution_count": null,
   "id": "5025af25",
   "metadata": {},
   "outputs": [],
   "source": [
    "def prefecture(code):\n",
    "    ville = geo_prefecture.loc[geo_prefecture['Code Département']==code,'Commune'].to_list()[0]\n",
    "    print(f\"{code} : {ville}\")\n",
    "def code_prefecture(ville):\n",
    "    ville = ville.upper()\n",
    "    code = geo_prefecture.loc[geo_prefecture['Commune']==ville,'Code Département'].to_list()[0]\n",
    "    print(f\"{ville} : {code}\")"
   ]
  },
  {
   "cell_type": "code",
   "execution_count": null,
   "id": "1e8360c3",
   "metadata": {},
   "outputs": [],
   "source": [
    "prefecture('54')"
   ]
  },
  {
   "cell_type": "code",
   "execution_count": null,
   "id": "53803289",
   "metadata": {},
   "outputs": [],
   "source": [
    "code_prefecture('Besancon')"
   ]
  },
  {
   "cell_type": "code",
   "execution_count": null,
   "id": "cd624c40",
   "metadata": {},
   "outputs": [],
   "source": [
    "geo_prefecture[geo_prefecture['Commune']=='MARSEILLE']"
   ]
  },
  {
   "cell_type": "code",
   "execution_count": null,
   "id": "f6d4b5af",
   "metadata": {},
   "outputs": [],
   "source": [
    "geo_prefecture.sort_values('Population', ascending = False)"
   ]
  },
  {
   "cell_type": "code",
   "execution_count": null,
   "id": "ab103b16",
   "metadata": {},
   "outputs": [],
   "source": [
    "historique"
   ]
  },
  {
   "cell_type": "code",
   "execution_count": null,
   "id": "a99744a4",
   "metadata": {},
   "outputs": [],
   "source": [
    "(historique['Correct']>historique['Erreur']).sum()/historique.shape[0]"
   ]
  },
  {
   "cell_type": "code",
   "execution_count": null,
   "id": "5bebff41",
   "metadata": {},
   "outputs": [],
   "source": []
  }
 ],
 "metadata": {
  "kernelspec": {
   "display_name": "py_36_env",
   "language": "python",
   "name": "py_36_env"
  },
  "language_info": {
   "codemirror_mode": {
    "name": "ipython",
    "version": 3
   },
   "file_extension": ".py",
   "mimetype": "text/x-python",
   "name": "python",
   "nbconvert_exporter": "python",
   "pygments_lexer": "ipython3",
   "version": "3.6.15"
  }
 },
 "nbformat": 4,
 "nbformat_minor": 5
}
