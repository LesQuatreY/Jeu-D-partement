{
 "cells": [
  {
   "cell_type": "code",
   "execution_count": 1,
   "id": "01341c48",
   "metadata": {},
   "outputs": [],
   "source": [
    "import numpy as np\n",
    "import pandas as pd\n",
    "import plotly.express as px\n",
    "import random\n",
    "\n",
    "import re"
   ]
  },
  {
   "cell_type": "code",
   "execution_count": 2,
   "id": "2b45f12e",
   "metadata": {},
   "outputs": [
    {
     "name": "stderr",
     "output_type": "stream",
     "text": [
      "C:\\Users\\taminot\\Anaconda3\\lib\\site-packages\\pandas\\core\\indexing.py:1676: SettingWithCopyWarning: \n",
      "A value is trying to be set on a copy of a slice from a DataFrame.\n",
      "Try using .loc[row_indexer,col_indexer] = value instead\n",
      "\n",
      "See the caveats in the documentation: https://pandas.pydata.org/pandas-docs/stable/user_guide/indexing.html#returning-a-view-versus-a-copy\n",
      "  self._setitem_single_column(ilocs[0], value, pi)\n"
     ]
    },
    {
     "data": {
      "text/html": [
       "<div>\n",
       "<style scoped>\n",
       "    .dataframe tbody tr th:only-of-type {\n",
       "        vertical-align: middle;\n",
       "    }\n",
       "\n",
       "    .dataframe tbody tr th {\n",
       "        vertical-align: top;\n",
       "    }\n",
       "\n",
       "    .dataframe thead th {\n",
       "        text-align: right;\n",
       "    }\n",
       "</style>\n",
       "<table border=\"1\" class=\"dataframe\">\n",
       "  <thead>\n",
       "    <tr style=\"text-align: right;\">\n",
       "      <th></th>\n",
       "      <th>Code INSEE</th>\n",
       "      <th>Code Postal</th>\n",
       "      <th>Commune</th>\n",
       "      <th>Département</th>\n",
       "      <th>Région</th>\n",
       "      <th>Statut</th>\n",
       "      <th>Altitude Moyenne</th>\n",
       "      <th>Superficie</th>\n",
       "      <th>Population</th>\n",
       "      <th>geo_point_2d</th>\n",
       "      <th>geo_shape</th>\n",
       "      <th>ID Geogla</th>\n",
       "      <th>Code Commune</th>\n",
       "      <th>Code Canton</th>\n",
       "      <th>Code Arrondissement</th>\n",
       "      <th>Code Département</th>\n",
       "      <th>Code Région</th>\n",
       "    </tr>\n",
       "  </thead>\n",
       "  <tbody>\n",
       "    <tr>\n",
       "      <th>338</th>\n",
       "      <td>77288</td>\n",
       "      <td>77000</td>\n",
       "      <td>MELUN</td>\n",
       "      <td>SEINE-ET-MARNE</td>\n",
       "      <td>ILE-DE-FRANCE</td>\n",
       "      <td>Préfecture</td>\n",
       "      <td>63.0</td>\n",
       "      <td>800.0</td>\n",
       "      <td>39.4</td>\n",
       "      <td>48.5444723553, 2.65795821917</td>\n",
       "      <td>{\"type\": \"Polygon\", \"coordinates\": [[[2.653274...</td>\n",
       "      <td>36389</td>\n",
       "      <td>288</td>\n",
       "      <td>99</td>\n",
       "      <td>2</td>\n",
       "      <td>77</td>\n",
       "      <td>11</td>\n",
       "    </tr>\n",
       "    <tr>\n",
       "      <th>496</th>\n",
       "      <td>15014</td>\n",
       "      <td>15000</td>\n",
       "      <td>AURILLAC</td>\n",
       "      <td>CANTAL</td>\n",
       "      <td>AUVERGNE</td>\n",
       "      <td>Préfecture</td>\n",
       "      <td>668.0</td>\n",
       "      <td>2916.0</td>\n",
       "      <td>28.2</td>\n",
       "      <td>44.9245233686, 2.44162453828</td>\n",
       "      <td>{\"type\": \"Polygon\", \"coordinates\": [[[2.483154...</td>\n",
       "      <td>4256</td>\n",
       "      <td>14</td>\n",
       "      <td>98</td>\n",
       "      <td>1</td>\n",
       "      <td>15</td>\n",
       "      <td>83</td>\n",
       "    </tr>\n",
       "  </tbody>\n",
       "</table>\n",
       "</div>"
      ],
      "text/plain": [
       "    Code INSEE Code Postal   Commune     Département         Région  \\\n",
       "338      77288       77000     MELUN  SEINE-ET-MARNE  ILE-DE-FRANCE   \n",
       "496      15014       15000  AURILLAC          CANTAL       AUVERGNE   \n",
       "\n",
       "         Statut  Altitude Moyenne  Superficie  Population  \\\n",
       "338  Préfecture              63.0       800.0        39.4   \n",
       "496  Préfecture             668.0      2916.0        28.2   \n",
       "\n",
       "                     geo_point_2d  \\\n",
       "338  48.5444723553, 2.65795821917   \n",
       "496  44.9245233686, 2.44162453828   \n",
       "\n",
       "                                             geo_shape  ID Geogla  \\\n",
       "338  {\"type\": \"Polygon\", \"coordinates\": [[[2.653274...      36389   \n",
       "496  {\"type\": \"Polygon\", \"coordinates\": [[[2.483154...       4256   \n",
       "\n",
       "     Code Commune  Code Canton  Code Arrondissement Code Département  \\\n",
       "338           288           99                    2               77   \n",
       "496            14           98                    1               15   \n",
       "\n",
       "     Code Région  \n",
       "338           11  \n",
       "496           83  "
      ]
     },
     "execution_count": 2,
     "metadata": {},
     "output_type": "execute_result"
    }
   ],
   "source": [
    "# dataset \n",
    "path = 'C:/Users/taminot/Documents/conf/TIDE/data/'\n",
    "geo = pd.read_csv(f\"{path}correspondance-code-insee-code-postal.csv\",\n",
    "                 sep=\";\",\n",
    "                 )\n",
    "geo_prefecture = geo[(geo['Statut']=='Préfecture') | (geo['Statut']=='Préfecture de région') | (geo['Statut']==\"Capitale d'état\") & (geo['Code Département']!='97')]\n",
    "geo_prefecture.loc[:,'Commune'] = geo_prefecture.loc[:,'Commune'].apply(lambda x: x if not ('ARRONDISSEMENT' in x) else re.search('\\\\w+', x).group())\n",
    "geo_prefecture.head(2)"
   ]
  },
  {
   "cell_type": "code",
   "execution_count": 3,
   "id": "1a5c6b30",
   "metadata": {},
   "outputs": [
    {
     "data": {
      "text/plain": [
       "'MARSEILLE'"
      ]
     },
     "execution_count": 3,
     "metadata": {},
     "output_type": "execute_result"
    }
   ],
   "source": [
    "mot = geo_prefecture.loc[geo_prefecture['Code Département']=='13','Commune'].to_list()[0]\n",
    "mot"
   ]
  },
  {
   "cell_type": "code",
   "execution_count": 4,
   "id": "f5fab527",
   "metadata": {},
   "outputs": [
    {
     "data": {
      "text/plain": [
       "'MARSEILLE'"
      ]
     },
     "execution_count": 4,
     "metadata": {},
     "output_type": "execute_result"
    }
   ],
   "source": [
    "import re\n",
    "re.search('\\\\w+', mot).group()"
   ]
  },
  {
   "cell_type": "code",
   "execution_count": 5,
   "id": "66e4d20e",
   "metadata": {},
   "outputs": [],
   "source": [
    "#geo_prefecture['Commune'] = geo_prefecture['Commune'].apply(lambda x: x if ('ARRONDISSEMENT' in x) else re.search('\\\\w+', x).group())"
   ]
  },
  {
   "cell_type": "code",
   "execution_count": 6,
   "id": "84dea537",
   "metadata": {},
   "outputs": [
    {
     "data": {
      "text/plain": [
       "'MARSEILLE'"
      ]
     },
     "execution_count": 6,
     "metadata": {},
     "output_type": "execute_result"
    }
   ],
   "source": [
    "mot = geo_prefecture.loc[geo_prefecture['Code Département']=='13','Commune'].to_list()[0]\n",
    "mot"
   ]
  },
  {
   "cell_type": "code",
   "execution_count": null,
   "id": "293f5282",
   "metadata": {},
   "outputs": [],
   "source": []
  }
 ],
 "metadata": {
  "kernelspec": {
   "display_name": "Python 3",
   "language": "python",
   "name": "python3"
  },
  "language_info": {
   "codemirror_mode": {
    "name": "ipython",
    "version": 3
   },
   "file_extension": ".py",
   "mimetype": "text/x-python",
   "name": "python",
   "nbconvert_exporter": "python",
   "pygments_lexer": "ipython3",
   "version": "3.8.8"
  }
 },
 "nbformat": 4,
 "nbformat_minor": 5
}
