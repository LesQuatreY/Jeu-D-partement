{
 "cells": [
  {
   "cell_type": "code",
   "execution_count": 1,
   "id": "9933f3ea",
   "metadata": {},
   "outputs": [
    {
     "name": "stderr",
     "output_type": "stream",
     "text": [
      "C:\\Users\\taminot\\Anaconda3\\lib\\site-packages\\folium\\folium.py:409: FutureWarning: The choropleth  method has been deprecated. Instead use the new Choropleth class, which has the same arguments. See the example notebook 'GeoJSON_and_choropleth' for how to do this.\n",
      "  warnings.warn(\n"
     ]
    },
    {
     "data": {
      "text/plain": [
       "<__main__.Carte at 0x22b8fc98cd0>"
      ]
     },
     "execution_count": 1,
     "metadata": {},
     "output_type": "execute_result"
    }
   ],
   "source": [
    "import folium\n",
    "class Carte:\n",
    "    def __init__(self):\n",
    "        fond = r'http://{s}.basemaps.cartocdn.com/light_all/{z}/{x}/{y}.png'\n",
    "        carte = folium.Map(location=[46.5, 2.3], zoom_start=6, tiles=fond, attr='© OpenStreetMap © CartoDB')\n",
    "        #carte.create_map(path='C:/Users/taminot/Documents/Jeu/Départements/image.html')\n",
    "        carte.save('C:/Users/taminot/Documents/Jeu/Départements/image.html')\n",
    "\n",
    "        ## Permet de mettre les contours de départements :\n",
    "        jsonData = r'C:/Users/taminot/Documents/Jeu/Départements/contour-des-departements.geojson'\n",
    "        carte.choropleth(jsonData, fill_color='yellow')\n",
    "\n",
    "Carte()"
   ]
  },
  {
   "cell_type": "code",
   "execution_count": 2,
   "id": "c9b4f0c8",
   "metadata": {},
   "outputs": [
    {
     "ename": "NameError",
     "evalue": "name 'carte' is not defined",
     "output_type": "error",
     "traceback": [
      "\u001b[1;31m---------------------------------------------------------------------------\u001b[0m",
      "\u001b[1;31mNameError\u001b[0m                                 Traceback (most recent call last)",
      "\u001b[1;32m<ipython-input-2-8780937a7428>\u001b[0m in \u001b[0;36m<module>\u001b[1;34m\u001b[0m\n\u001b[1;32m----> 1\u001b[1;33m \u001b[0mcarte\u001b[0m\u001b[1;33m\u001b[0m\u001b[1;33m\u001b[0m\u001b[0m\n\u001b[0m",
      "\u001b[1;31mNameError\u001b[0m: name 'carte' is not defined"
     ]
    }
   ],
   "source": [
    "carte"
   ]
  },
  {
   "cell_type": "code",
   "execution_count": null,
   "id": "1bf5e383",
   "metadata": {},
   "outputs": [],
   "source": [
    "folium.Marker([45.7699284397, 4.82922464978], popup='Lyon').add_to(carte)"
   ]
  },
  {
   "cell_type": "code",
   "execution_count": null,
   "id": "ebdf9932",
   "metadata": {},
   "outputs": [],
   "source": [
    "display(carte)"
   ]
  },
  {
   "cell_type": "code",
   "execution_count": null,
   "id": "73df24ae",
   "metadata": {},
   "outputs": [],
   "source": [
    "carte.create_map(path='C:/Users/taminot/Documents/Jeu/Départements/image.html')"
   ]
  },
  {
   "cell_type": "code",
   "execution_count": null,
   "id": "fdde160e",
   "metadata": {},
   "outputs": [],
   "source": [
    "folium.Marker([43.2999009436, 5.38227869795], popup='Marseille').add_to(carte)"
   ]
  },
  {
   "cell_type": "code",
   "execution_count": null,
   "id": "a7309a7f",
   "metadata": {},
   "outputs": [],
   "source": [
    "display(carte)"
   ]
  },
  {
   "cell_type": "code",
   "execution_count": null,
   "id": "23380b5d",
   "metadata": {},
   "outputs": [],
   "source": []
  },
  {
   "cell_type": "code",
   "execution_count": null,
   "id": "32f8e581",
   "metadata": {},
   "outputs": [],
   "source": [
    "def test():\n",
    "    pass\n",
    "test()"
   ]
  },
  {
   "cell_type": "code",
   "execution_count": null,
   "id": "fd3d648e",
   "metadata": {},
   "outputs": [],
   "source": []
  }
 ],
 "metadata": {
  "kernelspec": {
   "display_name": "Python 3",
   "language": "python",
   "name": "python3"
  },
  "language_info": {
   "codemirror_mode": {
    "name": "ipython",
    "version": 3
   },
   "file_extension": ".py",
   "mimetype": "text/x-python",
   "name": "python",
   "nbconvert_exporter": "python",
   "pygments_lexer": "ipython3",
   "version": "3.8.8"
  }
 },
 "nbformat": 4,
 "nbformat_minor": 5
}
